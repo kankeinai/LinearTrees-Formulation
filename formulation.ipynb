{
 "cells": [
  {
   "cell_type": "markdown",
   "metadata": {},
   "source": [
    "# Introduction of Linear decision trees"
   ]
  },
  {
   "cell_type": "markdown",
   "metadata": {},
   "source": [
    "In this jupyter notebook, I am going to discuss how Linear decision trees can be added to Gogeta"
   ]
  },
  {
   "cell_type": "code",
   "execution_count": 450,
   "metadata": {},
   "outputs": [],
   "source": [
    "# import necessary libraries \n",
    "using EvoTrees\n",
    "using JuMP\n",
    "using Gurobi"
   ]
  },
  {
   "cell_type": "markdown",
   "metadata": {},
   "source": [
    "The key difference is that Linear decision trees have a linear function at the leafs, while normal decision tree has a coefficient. Lest create a dataset to learn a simple function:\n",
    "$$f(x) = \\sum_{i=1}^5 x_i^3$$\n",
    "\n"
   ]
  },
  {
   "cell_type": "code",
   "execution_count": 451,
   "metadata": {},
   "outputs": [],
   "source": [
    "data = rand(1000, 5) .- 0.5;\n",
    "x_train = data[1:750, :];\n",
    "y_train = vec(sum(map.(x->x^3, x_train), dims=2));\n",
    "\n",
    "x_test = data[751:end, :];\n",
    "y_test = vec(sum(map.(x->x^3, x_test), dims=2));"
   ]
  },
  {
   "cell_type": "markdown",
   "metadata": {},
   "source": [
    "Now using `EvoTrees`, lets create forest of 2 trees "
   ]
  },
  {
   "cell_type": "code",
   "execution_count": 452,
   "metadata": {},
   "outputs": [],
   "source": [
    "config = EvoTreeRegressor(nrounds=200, max_depth=5);\n",
    "evo_model = fit_evotree(config; x_train, y_train, verbosity=0);"
   ]
  },
  {
   "cell_type": "markdown",
   "metadata": {},
   "source": [
    "The first tree is always bias tree"
   ]
  },
  {
   "cell_type": "code",
   "execution_count": 453,
   "metadata": {},
   "outputs": [
    {
     "data": {
      "text/plain": [
       "EvoTrees.Tree{EvoTrees.MSE, 1}\n",
       " - feat: [0]\n",
       " - cond_bin: UInt8[0x00]\n",
       " - cond_float: Any[0.0]\n",
       " - gain: [0.0]\n",
       " - pred: Float32[-0.0026170067;;]\n",
       " - split: Bool[0]\n"
      ]
     },
     "metadata": {},
     "output_type": "display_data"
    }
   ],
   "source": [
    "evo_model.trees[1]"
   ]
  },
  {
   "cell_type": "markdown",
   "metadata": {},
   "source": [
    "These are predictions learned by general tree. With Linear decision tree, we would also have $R^n$ vector for each leaf in the tree. For now lets assume that all gradients are zeros and coefficients equal to predictions of `EvoTrees` "
   ]
  },
  {
   "cell_type": "code",
   "execution_count": 454,
   "metadata": {},
   "outputs": [
    {
     "data": {
      "text/plain": [
       "15-element Vector{Float32}:\n",
       " -0.032087997\n",
       " -0.025356872\n",
       " -0.03195912\n",
       " -0.022056153\n",
       " -0.010642417\n",
       " -0.0074923313\n",
       "  0.0033112094\n",
       " -0.021318046\n",
       " -0.0058930465\n",
       " -0.00015210488\n",
       "  0.008136735\n",
       "  0.0033859473\n",
       "  0.011718282\n",
       "  0.0068052234\n",
       "  0.015342223"
      ]
     },
     "metadata": {},
     "output_type": "display_data"
    }
   ],
   "source": [
    "leaves = findall(node -> evo_model.trees[2].split[node] == false && (node == 1 || evo_model.trees[2].split[floor(Int, node / 2)] == true), 1:length(evo_model.trees[2].split))\n",
    "\n",
    "evo_model.trees[2].pred[leaves]"
   ]
  },
  {
   "cell_type": "markdown",
   "metadata": {},
   "source": [
    "If Linear decision trees to be introduced in Julia, I would expect them to have similar structure as `EvoTrees`. "
   ]
  },
  {
   "cell_type": "code",
   "execution_count": 455,
   "metadata": {},
   "outputs": [],
   "source": [
    "struct LTEModel\n",
    "    n_trees::Int64\n",
    "    n_feats::Int64\n",
    "    n_leaves::Array{Int64}\n",
    "    leaves::Array{Array}\n",
    "    splits::Matrix{Any}\n",
    "    splits_ordered::Array{Vector}\n",
    "    n_splits::Array{Int64}\n",
    "    a::Array{Array}\n",
    "    b::Array{Array}\n",
    "    split_nodes::Array{Array}\n",
    "    child_leaves::Array{Array}\n",
    "end"
   ]
  },
  {
   "cell_type": "code",
   "execution_count": 456,
   "metadata": {},
   "outputs": [
    {
     "data": {
      "text/plain": [
       "extract_evotrees_info (generic function with 1 method)"
      ]
     },
     "metadata": {},
     "output_type": "display_data"
    }
   ],
   "source": [
    "function extract_evotrees_info(evo_model; tree_limit=length(evo_model.trees))\n",
    "\n",
    "    n_trees = tree_limit\n",
    "    n_feats = length(evo_model.info[:fnames])\n",
    "\n",
    "    n_leaves = Array{Int64}(undef, n_trees) # number of leaves on each tree\n",
    "    leaves = Array{Array}(undef, n_trees) # ids of the leaves of each tree\n",
    "\n",
    "    # Get number of leaves and ids of the leaves on each tree\n",
    "    for tree in 1:n_trees\n",
    "        leaves[tree] = findall(node -> evo_model.trees[tree].split[node] == false && (node == 1 || evo_model.trees[tree].split[floor(Int, node / 2)] == true), 1:length(evo_model.trees[tree].split))\n",
    "        n_leaves[tree] = length(leaves[tree])\n",
    "    end\n",
    "\n",
    "    splits = Matrix{Any}(undef, n_trees, length(evo_model.trees[2].split)) # storing the feature number and splitpoint index for each split node\n",
    "    splits_ordered = Array{Vector}(undef, n_feats) # splitpoints for each feature\n",
    "\n",
    "    n_splits = zeros(Int64, n_feats)\n",
    "    [splits_ordered[feat] = [] for feat in 1:n_feats]\n",
    "\n",
    "    for tree in 1:n_trees\n",
    "        for node in eachindex(evo_model.trees[tree].split)\n",
    "            if evo_model.trees[tree].split[node] == true\n",
    "                splits[tree, node] = [evo_model.trees[tree].feat[node], evo_model.trees[tree].cond_float[node]] # save feature and split value\n",
    "                push!(splits_ordered[evo_model.trees[tree].feat[node]], evo_model.trees[tree].cond_float[node]) # push split value to splits_ordered\n",
    "            end\n",
    "        end\n",
    "    end\n",
    "    [unique!(sort!(splits_ordered[feat])) for feat in 1:n_feats] # sort splits_ordered and remove copies\n",
    "    [n_splits[feat] = length(splits_ordered[feat]) for feat in 1:n_feats] # store number of split points\n",
    "\n",
    "    for tree in 1:n_trees\n",
    "        for node in eachindex(evo_model.trees[tree].split)\n",
    "            if evo_model.trees[tree].split[node] == true\n",
    "                \n",
    "                feature::Int = splits[tree, node][1]\n",
    "                value = splits[tree, node][2]\n",
    "\n",
    "                splits[tree, node][2] = searchsortedfirst(splits_ordered[feature], value)\n",
    "\n",
    "            end\n",
    "        end\n",
    "    end\n",
    "\n",
    "\n",
    "    b = Array{Array}(undef, n_trees)\n",
    "    [b[tree] = evo_model.trees[tree].pred for tree in 1:n_trees]\n",
    "    # -------------------------------------------------------\n",
    "    # in the Linear decision tree, there should be gradient in addition to coefficient\n",
    "    a = Array{Array}(undef, n_trees)\n",
    "    [a[tree] = zeros(length(evo_model.trees[tree].pred), n_feats) for tree in 1:n_trees]\n",
    "    # -------------------------------------------------------\n",
    "    \n",
    "    split_nodes = Array{Array}(undef, n_trees)\n",
    "    [split_nodes[tree] = evo_model.trees[tree].split for tree in 1:n_trees]\n",
    "\n",
    "    return LTEModel(n_trees, n_feats, n_leaves, leaves, splits, splits_ordered, n_splits, a, b, split_nodes, Array{Array}(undef, n_trees))\n",
    "\n",
    "end"
   ]
  },
  {
   "cell_type": "code",
   "execution_count": 457,
   "metadata": {},
   "outputs": [
    {
     "data": {
      "text/plain": [
       "LTEModel(201, 5, [1, 15, 16, 16, 15, 16, 15, 14, 16, 16  …  16, 14, 15, 15, 16, 16, 12, 15, 12, 16], Array[[1], [9, 16, 17, 20, 21, 22, 23, 24, 25, 26, 27, 28, 29, 30, 31], [16, 17, 18, 19, 20, 21, 22, 23, 24, 25, 26, 27, 28, 29, 30, 31], [16, 17, 18, 19, 20, 21, 22, 23, 24, 25, 26, 27, 28, 29, 30, 31], [11, 16, 17, 18, 19, 20, 21, 24, 25, 26, 27, 28, 29, 30, 31], [16, 17, 18, 19, 20, 21, 22, 23, 24, 25, 26, 27, 28, 29, 30, 31], [14, 16, 17, 18, 19, 20, 21, 22, 23, 24, 25, 26, 27, 30, 31], [8, 10, 18, 19, 22, 23, 24, 25, 26, 27, 28, 29, 30, 31], [16, 17, 18, 19, 20, 21, 22, 23, 24, 25, 26, 27, 28, 29, 30, 31], [16, 17, 18, 19, 20, 21, 22, 23, 24, 25, 26, 27, 28, 29, 30, 31]  …  [16, 17, 18, 19, 20, 21, 22, 23, 24, 25, 26, 27, 28, 29, 30, 31], [12, 13, 16, 17, 18, 19, 20, 21, 22, 23, 28, 29, 30, 31], [13, 16, 17, 18, 19, 20, 21, 22, 23, 24, 25, 28, 29, 30, 31], [13, 16, 17, 18, 19, 20, 21, 22, 23, 24, 25, 28, 29, 30, 31], [16, 17, 18, 19, 20, 21, 22, 23, 24, 25, 26, 27, 28, 29, 30, 31], [16, 17, 18, 19, 20, 21, 22, 23, 24, 25, 26, 27, 28, 29, 30, 31], [4, 13, 20, 21, 22, 23, 24, 25, 28, 29, 30, 31], [11, 16, 17, 18, 19, 20, 21, 24, 25, 26, 27, 28, 29, 30, 31], [4, 11, 20, 21, 24, 25, 26, 27, 28, 29, 30, 31], [16, 17, 18, 19, 20, 21, 22, 23, 24, 25, 26, 27, 28, 29, 30, 31]], Any[#undef #undef … #undef #undef; [5.0, 12.0] [4.0, 3.0] … #undef #undef; … ; [3.0, 2.0] [4.0, 2.0] … #undef #undef; [2.0, 60.0] [2.0, 55.0] … #undef #undef], Vector[Any[-0.4864276059665198, -0.47121904836765505, -0.45756435163915066, -0.44297206289187535, -0.4234635497674877, -0.411889266917871, -0.4009037888073307, -0.38259140325764884, -0.36808999966961153, -0.3411838177772114  …  0.3312938211581628, 0.34592634802808014, 0.3675098521697965, 0.385703543549483, 0.3987068231056261, 0.4207471194164941, 0.436448808961201, 0.4531394022931809, 0.4708443641012314, 0.48427189590432285], Any[-0.4860828436248694, -0.46942707664729805, -0.45316933443879104, -0.43952231214292203, -0.4235929469997235, -0.4014768649227013, -0.3942422986372771, -0.3770370377656642, -0.3634516128505929, -0.34370126851360994  …  0.33575384350734, 0.3455812457015249, 0.3586229035705206, 0.37318783088281127, 0.3950000992315767, 0.4066067246992978, 0.4249854485055885, 0.4405216885879521, 0.4584463566586028, 0.47770561331718336], Any[-0.4786987437962701, -0.4572484283807279, -0.4424544417140284, -0.4253341273958427, -0.40615862679445836, -0.39062598749642474, -0.3756095940963464, -0.35910354092799224, -0.337963814928118, -0.32580821347882405  …  0.3446945225220385, 0.35816645340463477, 0.3743153952715511, 0.38774324668788573, 0.40868506418774764, 0.42080464969127196, 0.4369491008807387, 0.44596850509981606, 0.47100093553394984, 0.4843420846583454], Any[-0.48178915027978747, -0.4650140421014491, -0.4443665929072952, -0.4265520557536196, -0.4099183976297588, -0.39517876412282466, -0.3808593422301969, -0.3667093737332505, -0.3487354205774108, -0.33886482065906237  …  0.35613704380721223, 0.37007772006062956, 0.38572497772905234, 0.39577120780285285, 0.4049140861427268, 0.41384333481761676, 0.4280922016517227, 0.43928204819749267, 0.45687851167561916, 0.4720565482678315], Any[-0.48942498996902933, -0.4773643778078377, -0.4630763232800806, -0.44574587500400015, -0.4367242068929347, -0.42163964950790306, -0.4035349578072063, -0.38451024676786455, -0.3745861930718373, -0.3594476442849637  …  0.3414214075219652, 0.3554123078660034, 0.3746522303462001, 0.38548337106306957, 0.4034121810512534, 0.4194798960720383, 0.4369896605497402, 0.4578860091998449, 0.4702002133368994, 0.4907048891469358]], [61, 62, 63, 63, 62], Array[[0.0 0.0 … 0.0 0.0], [0.0 0.0 … 0.0 0.0; 0.0 0.0 … 0.0 0.0; … ; 0.0 0.0 … 0.0 0.0; 0.0 0.0 … 0.0 0.0], [0.0 0.0 … 0.0 0.0; 0.0 0.0 … 0.0 0.0; … ; 0.0 0.0 … 0.0 0.0; 0.0 0.0 … 0.0 0.0], [0.0 0.0 … 0.0 0.0; 0.0 0.0 … 0.0 0.0; … ; 0.0 0.0 … 0.0 0.0; 0.0 0.0 … 0.0 0.0], [0.0 0.0 … 0.0 0.0; 0.0 0.0 … 0.0 0.0; … ; 0.0 0.0 … 0.0 0.0; 0.0 0.0 … 0.0 0.0], [0.0 0.0 … 0.0 0.0; 0.0 0.0 … 0.0 0.0; … ; 0.0 0.0 … 0.0 0.0; 0.0 0.0 … 0.0 0.0], [0.0 0.0 … 0.0 0.0; 0.0 0.0 … 0.0 0.0; … ; 0.0 0.0 … 0.0 0.0; 0.0 0.0 … 0.0 0.0], [0.0 0.0 … 0.0 0.0; 0.0 0.0 … 0.0 0.0; … ; 0.0 0.0 … 0.0 0.0; 0.0 0.0 … 0.0 0.0], [0.0 0.0 … 0.0 0.0; 0.0 0.0 … 0.0 0.0; … ; 0.0 0.0 … 0.0 0.0; 0.0 0.0 … 0.0 0.0], [0.0 0.0 … 0.0 0.0; 0.0 0.0 … 0.0 0.0; … ; 0.0 0.0 … 0.0 0.0; 0.0 0.0 … 0.0 0.0]  …  [0.0 0.0 … 0.0 0.0; 0.0 0.0 … 0.0 0.0; … ; 0.0 0.0 … 0.0 0.0; 0.0 0.0 … 0.0 0.0], [0.0 0.0 … 0.0 0.0; 0.0 0.0 … 0.0 0.0; … ; 0.0 0.0 … 0.0 0.0; 0.0 0.0 … 0.0 0.0], [0.0 0.0 … 0.0 0.0; 0.0 0.0 … 0.0 0.0; … ; 0.0 0.0 … 0.0 0.0; 0.0 0.0 … 0.0 0.0], [0.0 0.0 … 0.0 0.0; 0.0 0.0 … 0.0 0.0; … ; 0.0 0.0 … 0.0 0.0; 0.0 0.0 … 0.0 0.0], [0.0 0.0 … 0.0 0.0; 0.0 0.0 … 0.0 0.0; … ; 0.0 0.0 … 0.0 0.0; 0.0 0.0 … 0.0 0.0], [0.0 0.0 … 0.0 0.0; 0.0 0.0 … 0.0 0.0; … ; 0.0 0.0 … 0.0 0.0; 0.0 0.0 … 0.0 0.0], [0.0 0.0 … 0.0 0.0; 0.0 0.0 … 0.0 0.0; … ; 0.0 0.0 … 0.0 0.0; 0.0 0.0 … 0.0 0.0], [0.0 0.0 … 0.0 0.0; 0.0 0.0 … 0.0 0.0; … ; 0.0 0.0 … 0.0 0.0; 0.0 0.0 … 0.0 0.0], [0.0 0.0 … 0.0 0.0; 0.0 0.0 … 0.0 0.0; … ; 0.0 0.0 … 0.0 0.0; 0.0 0.0 … 0.0 0.0], [0.0 0.0 … 0.0 0.0; 0.0 0.0 … 0.0 0.0; … ; 0.0 0.0 … 0.0 0.0; 0.0 0.0 … 0.0 0.0]], Array[Float32[-0.0026170067;;], Float32[0.0 0.0 … 0.0068052234 0.015342223], Float32[0.0 0.0 … 0.016748006 0.024434127], Float32[0.0 0.0 … 0.009591235 0.018435545], Float32[0.0 0.0 … 0.004245921 0.010195149], Float32[0.0 0.0 … 0.012144185 0.018478107], Float32[0.0 0.0 … 0.00948884 0.014308062], Float32[0.0 0.0 … 0.0057608667 0.015116967], Float32[0.0 0.0 … 0.004646693 0.010853422], Float32[0.0 0.0 … 0.006065736 0.015467452]  …  Float32[0.0 0.0 … -0.00013537146 6.7491084f-5], Float32[0.0 0.0 … -7.396277f-5 0.00023102417], Float32[0.0 0.0 … 0.00046487438 0.00010960646], Float32[0.0 0.0 … 0.0007685054 0.00012758796], Float32[0.0 0.0 … 0.00025024835 1.997084f-5], Float32[0.0 0.0 … -0.00024749318 0.00012376523], Float32[0.0 0.0 … -5.01252f-5 8.65899f-6], Float32[0.0 0.0 … 0.00020864233 2.7682395f-6], Float32[0.0 0.0 … -0.00017867202 6.432085f-6], Float32[0.0 0.0 … 0.00015883372 -0.000119495395]], Array[Bool[0], Bool[1, 1, 1, 1, 1, 1, 1, 1, 0, 1  …  0, 0, 0, 0, 0, 0, 0, 0, 0, 0], Bool[1, 1, 1, 1, 1, 1, 1, 1, 1, 1  …  0, 0, 0, 0, 0, 0, 0, 0, 0, 0], Bool[1, 1, 1, 1, 1, 1, 1, 1, 1, 1  …  0, 0, 0, 0, 0, 0, 0, 0, 0, 0], Bool[1, 1, 1, 1, 1, 1, 1, 1, 1, 1  …  0, 0, 0, 0, 0, 0, 0, 0, 0, 0], Bool[1, 1, 1, 1, 1, 1, 1, 1, 1, 1  …  0, 0, 0, 0, 0, 0, 0, 0, 0, 0], Bool[1, 1, 1, 1, 1, 1, 1, 1, 1, 1  …  0, 0, 0, 0, 0, 0, 0, 0, 0, 0], Bool[1, 1, 1, 1, 1, 1, 1, 0, 1, 0  …  0, 0, 0, 0, 0, 0, 0, 0, 0, 0], Bool[1, 1, 1, 1, 1, 1, 1, 1, 1, 1  …  0, 0, 0, 0, 0, 0, 0, 0, 0, 0], Bool[1, 1, 1, 1, 1, 1, 1, 1, 1, 1  …  0, 0, 0, 0, 0, 0, 0, 0, 0, 0]  …  Bool[1, 1, 1, 1, 1, 1, 1, 1, 1, 1  …  0, 0, 0, 0, 0, 0, 0, 0, 0, 0], Bool[1, 1, 1, 1, 1, 1, 1, 1, 1, 1  …  0, 0, 0, 0, 0, 0, 0, 0, 0, 0], Bool[1, 1, 1, 1, 1, 1, 1, 1, 1, 1  …  0, 0, 0, 0, 0, 0, 0, 0, 0, 0], Bool[1, 1, 1, 1, 1, 1, 1, 1, 1, 1  …  0, 0, 0, 0, 0, 0, 0, 0, 0, 0], Bool[1, 1, 1, 1, 1, 1, 1, 1, 1, 1  …  0, 0, 0, 0, 0, 0, 0, 0, 0, 0], Bool[1, 1, 1, 1, 1, 1, 1, 1, 1, 1  …  0, 0, 0, 0, 0, 0, 0, 0, 0, 0], Bool[1, 1, 1, 0, 1, 1, 1, 0, 0, 1  …  0, 0, 0, 0, 0, 0, 0, 0, 0, 0], Bool[1, 1, 1, 1, 1, 1, 1, 1, 1, 1  …  0, 0, 0, 0, 0, 0, 0, 0, 0, 0], Bool[1, 1, 1, 0, 1, 1, 1, 0, 0, 1  …  0, 0, 0, 0, 0, 0, 0, 0, 0, 0], Bool[1, 1, 1, 1, 1, 1, 1, 1, 1, 1  …  0, 0, 0, 0, 0, 0, 0, 0, 0, 0]], Array[#undef, #undef, #undef, #undef, #undef, #undef, #undef, #undef, #undef, #undef  …  #undef, #undef, #undef, #undef, #undef, #undef, #undef, #undef, #undef, #undef])"
      ]
     },
     "metadata": {},
     "output_type": "display_data"
    }
   ],
   "source": [
    "LTE = extract_evotrees_info(evo_model; tree_limit=length(evo_model.trees))"
   ]
  },
  {
   "cell_type": "markdown",
   "metadata": {},
   "source": [
    "No changes in the function `init_TEModel!()`, the only change is that we work with `LTEModel` now."
   ]
  },
  {
   "cell_type": "code",
   "execution_count": 458,
   "metadata": {},
   "outputs": [
    {
     "data": {
      "text/plain": [
       "children (generic function with 1 method)"
      ]
     },
     "metadata": {},
     "output_type": "display_data"
    }
   ],
   "source": [
    "function children(id::Int, leaf_dict::Dict, max::Int)\n",
    "\n",
    "    result::Vector{Int} = []\n",
    "\n",
    "    function inner(num)\n",
    "        if num <= max\n",
    "            leaf_index = get(leaf_dict, num, 0)\n",
    "            if leaf_index != 0\n",
    "                push!(result, leaf_index)\n",
    "            end\n",
    "            inner(num << 1)\n",
    "            inner(num << 1 + 1)\n",
    "        end\n",
    "    end\n",
    "\n",
    "    inner(id)\n",
    "\n",
    "    return result\n",
    "\n",
    "end"
   ]
  },
  {
   "cell_type": "code",
   "execution_count": 459,
   "metadata": {},
   "outputs": [
    {
     "data": {
      "text/plain": [
       "init_LTEModel! (generic function with 1 method)"
      ]
     },
     "metadata": {},
     "output_type": "display_data"
    }
   ],
   "source": [
    "function init_LTEModel!(LTE::LTEModel)\n",
    "\n",
    "    leaf_dict = Array{Dict}(undef, LTE.n_trees)\n",
    "    [leaf_dict[tree] = Dict([(LTE.leaves[tree][leaf], leaf) for leaf in eachindex(LTE.leaves[tree])]) for tree in 1:LTE.n_trees]\n",
    "\n",
    "    # pre-compute all children for all active nodes of all trees\n",
    "    for tree in 1:LTE.n_trees\n",
    "        \n",
    "        nodes_with_split = findall(split -> split == true, LTE.split_nodes[tree])\n",
    "        LTE.child_leaves[tree] = Array{Any}(undef, maximum(LTE.leaves[tree]))\n",
    "\n",
    "        for node in [nodes_with_split; LTE.leaves[tree]]\n",
    "            LTE.child_leaves[tree][node] = children(node, leaf_dict[tree], last(LTE.leaves[tree]))\n",
    "        end\n",
    "    end\n",
    "end\n"
   ]
  },
  {
   "cell_type": "code",
   "execution_count": 460,
   "metadata": {},
   "outputs": [],
   "source": [
    "L_bounds = -0.5*ones(LTE.n_feats);\n",
    "U_bounds = 0.5*ones(LTE.n_feats);\n",
    "d_bounds = [-1, 1];"
   ]
  },
  {
   "cell_type": "code",
   "execution_count": 461,
   "metadata": {},
   "outputs": [
    {
     "data": {
      "text/plain": [
       "calculate_bounds (generic function with 1 method)"
      ]
     },
     "metadata": {},
     "output_type": "display_data"
    }
   ],
   "source": [
    "function calculate_bounds(model::JuMP.Model, LTE::LTEModel, leaf, tree, d_bounds)\n",
    "\n",
    "    # Something is wrong there \n",
    "    # ------------------------------------\n",
    "\n",
    "    @objective(model, Max,  LTE.a[tree][LTE.leaves[tree][leaf], :]'*model[:x]+LTE.b[tree][LTE.leaves[tree][leaf]] - model[:t][tree])\n",
    "\n",
    "    optimize!(model)\n",
    "    upper_bound = objective_value(model)\n",
    "\n",
    "    set_objective_sense(model, MIN_SENSE)\n",
    "    optimize!(model)\n",
    "\n",
    "    lower_bound = objective_value(model)\n",
    "    \n",
    "    return [upper_bound, lower_bound]\n",
    "    \n",
    "end"
   ]
  },
  {
   "cell_type": "code",
   "execution_count": 462,
   "metadata": {},
   "outputs": [
    {
     "data": {
      "text/plain": [
       "LTE_formulate! (generic function with 2 methods)"
      ]
     },
     "metadata": {},
     "output_type": "display_data"
    }
   ],
   "source": [
    "function LTE_formulate!(model::JuMP.Model, LTE::LTEModel, U_bounds, L_bounds; bound_tightening = \"quadratic\", d_bounds=nothing)\n",
    "\n",
    "    empty!(model);\n",
    "    if bound_tightening == \"output\" @assert !isnothing(d_bounds) \"Bounds for forest output must be provided.\" end\n",
    "\n",
    "    init_LTEModel!(LTE);\n",
    "    \n",
    "\n",
    "    # (2.2.8)\n",
    "    @variable(model, x[1:LTE.n_feats]);\n",
    "    @constraint(model, [i = 1:LTE.n_feats], x[i] <= U_bounds[i]);\n",
    "    @constraint(model, [i = 1:LTE.n_feats], x[i] >= L_bounds[i]);\n",
    "\n",
    "    # (2.2.9)\n",
    "    @variable(model, y[i = 1:LTE.n_feats, 1:LTE.n_splits[i]], Bin);\n",
    "\n",
    "    # (2.2.10)\n",
    "    @variable(model, z[tree = 1:LTE.n_trees, 1:LTE.n_leaves[tree]], Bin); \n",
    "\n",
    "    @variable(model, d);\n",
    "\n",
    "    # (2.2.5)\n",
    "    @constraint(model, [i = 1:LTE.n_feats, j = 1:(LTE.n_splits[i]-1)], y[i,j] <= y[i, j+1]); \n",
    "\n",
    "    v = []\n",
    "    for i = 1:length(LTE.splits_ordered)\n",
    "        push!(v, vcat(L_bounds[i], LTE.splits_ordered[i], U_bounds[i]));\n",
    "    end\n",
    "\n",
    "    # (2.2.6)\n",
    "    @constraint(model, [i = 1:LTE.n_feats], x[i] >=  v[i][1] + sum((v[i][j] - v[i][j-1])*(1 - y[i, j-1]) for j = 2 : LTE.n_splits[i]+1));\n",
    "\n",
    "    # (2.2.7)\n",
    "    @constraint(model, [i = 1:LTE.n_feats], x[i] <=  v[i][LTE.n_splits[i]+2] + sum((v[i][j] - v[i][j+1])* y[i, j-1] for j = 2 : LTE.n_splits[i]+1));\n",
    "\n",
    "    # (2.2.2)\n",
    "    @constraint(model, [tree = 1:LTE.n_trees], sum(z[tree, i] for i=1:LTE.n_leaves[tree]) == 1);\n",
    "    \n",
    "    for tree in 1:LTE.n_trees\n",
    "        for current_node in findall(s -> s==true, LTE.split_nodes[tree])\n",
    "\n",
    "            right_leaves = LTE.child_leaves[tree][current_node << 1 + 1];\n",
    "            left_leaves = LTE.child_leaves[tree][current_node << 1];\n",
    "\n",
    "            current_feat, current_splitpoint_index = LTE.splits[tree, current_node];\n",
    "\n",
    "            # (2.2.3)\n",
    "            @constraint(model, sum(model[:z][tree, leaf] for leaf in right_leaves) <= 1 - model[:y][current_feat, current_splitpoint_index]);\n",
    "\n",
    "            # (2.2.4)\n",
    "            @constraint(model, sum(model[:z][tree, leaf] for leaf in left_leaves) <= model[:y][current_feat, current_splitpoint_index]);\n",
    "        end\n",
    "    end\n",
    "\n",
    "    if bound_tightening==\"quadratic\"\n",
    "        # (2.2.1)\n",
    "        @constraint(model, d == sum((LTE.a[tree][LTE.leaves[tree][leaf], :]'*x+LTE.b[tree][LTE.leaves[tree][leaf]])*z[tree, leaf] for tree = 1:LTE.n_trees, leaf = 1:LTE.n_leaves[tree]));\n",
    "    \n",
    "    elseif  bound_tightening==\"output\"\n",
    "\n",
    "        # It doesn't work\n",
    "        # ---------------------\n",
    "        @variable(model, t[1:LTE.n_trees]);        \n",
    "        @constraint(model, [tree = 1:LTE.n_trees], d_bounds[1]<=t[tree]<=d_bounds[2]);\n",
    "        bounds = [[calculate_bounds(model, LTE, leaf, tree, d_bounds) for leaf in 1:LTE.n_leaves[tree]] for tree in 1:LTE.n_trees];\n",
    "        # (2.2.12)\n",
    "        @constraint(model, [tree = 1:LTE.n_trees, leaf = 1:LTE.n_leaves[tree]], LTE.a[tree][LTE.leaves[tree][leaf], :]'*x+LTE.b[tree][LTE.leaves[tree][leaf]] - t[tree] <=bounds[tree][leaf][1]*(1 - z[tree, leaf]));\n",
    "        \n",
    "        # (2.2.13)\n",
    "        @constraint(model, [tree = 1:LTE.n_trees, leaf = 1:LTE.n_leaves[tree]], LTE.a[tree][LTE.leaves[tree][leaf], :]'*x+LTE.b[tree][LTE.leaves[tree][leaf]] - t[tree] >=-bounds[tree][leaf][2]*(1 - z[tree, leaf]));\n",
    "        \n",
    "        @constraint(model,  sum(t[tree] for tree = 1:LTE.n_trees) == d);\n",
    "        \n",
    "        # ---------------------\n",
    "    end      \n",
    "   end"
   ]
  },
  {
   "cell_type": "code",
   "execution_count": 463,
   "metadata": {},
   "outputs": [
    {
     "data": {
      "text/latex": [
       "$$ 0.002617006655782461 z_{1,1} + 0.03208799660205841 z_{2,1} + 0.025356872007250786 z_{2,2} + 0.03195912018418312 z_{2,3} + 0.022056153044104576 z_{2,4} + 0.010642416775226593 z_{2,5} + 0.007492331322282553 z_{2,6} - 0.0033112093806266785 z_{2,7} + 0.021318046376109123 z_{2,8} + 0.005893046502023935 z_{2,9} + 0.00015210488345474005 z_{2,10} - 0.008136735297739506 z_{2,11} - 0.0033859473187476397 z_{2,12} - 0.011718281544744968 z_{2,13} - 0.006805223412811756 z_{2,14} - 0.015342223457992077 z_{2,15} + 0.016502728685736656 z_{3,1} + 0.00887283869087696 z_{3,2} - 0.0015014056116342545 z_{3,3} - 0.015306669287383556 z_{3,4} + 0.016169315204024315 z_{3,5} + 0.004910515155643225 z_{3,6} + 0.0004831280966755003 z_{3,7} - 0.007588396314531565 z_{3,8} + 0.008103816770017147 z_{3,9} + 0.0005962153081782162 z_{3,10} - 0.001233614981174469 z_{3,11} - 0.009158176369965076 z_{3,12} - 0.004883254878222942 z_{3,13} - 0.014234708622097969 z_{3,14} - [[\\ldots\\text{2910 terms omitted}\\ldots]] - 2.768239482975332e-6 z_{199,15} - 0.00030502380104735494 z_{200,1} + 0.00026169567718170583 z_{200,2} + 0.00018731546879280359 z_{200,3} + 6.911950094945496e-6 z_{200,4} + 7.525086402893066e-5 z_{200,5} - 0.00022844709747005254 z_{200,6} + 0.00017785702948458493 z_{200,7} - 0.00010346947237849236 z_{200,8} - 0.0002909202012233436 z_{200,9} + 3.7121528293937445e-5 z_{200,10} + 0.00017867202404886484 z_{200,11} - 6.432084774132818e-6 z_{200,12} + 1.3044427760178223e-5 z_{201,1} + 0.0003352500207256526 z_{201,2} - 5.005656203138642e-5 z_{201,3} + 1.2495380360633135e-5 z_{201,4} + 0.00016242568381130695 z_{201,5} + 0.0006348351598717272 z_{201,6} - 0.0002484277938492596 z_{201,7} + 3.016578011738602e-5 z_{201,8} - 0.0003333050408400595 z_{201,9} - 7.157414074754342e-5 z_{201,10} + 1.9601724488893524e-5 z_{201,11} - 0.00022690091282129288 z_{201,12} + 0.00023234802938532084 z_{201,13} + 6.107539229560643e-5 z_{201,14} - 0.00015883371816016734 z_{201,15} + 0.00011949539475608617 z_{201,16} + d = 0 $$"
      ],
      "text/plain": [
       "0.002617006655782461 z[1,1] + 0.03208799660205841 z[2,1] + 0.025356872007250786 z[2,2] + 0.03195912018418312 z[2,3] + 0.022056153044104576 z[2,4] + 0.010642416775226593 z[2,5] + 0.007492331322282553 z[2,6] - 0.0033112093806266785 z[2,7] + 0.021318046376109123 z[2,8] + 0.005893046502023935 z[2,9] + 0.00015210488345474005 z[2,10] - 0.008136735297739506 z[2,11] - 0.0033859473187476397 z[2,12] - 0.011718281544744968 z[2,13] - 0.006805223412811756 z[2,14] - 0.015342223457992077 z[2,15] + 0.016502728685736656 z[3,1] + 0.00887283869087696 z[3,2] - 0.0015014056116342545 z[3,3] - 0.015306669287383556 z[3,4] + 0.016169315204024315 z[3,5] + 0.004910515155643225 z[3,6] + 0.0004831280966755003 z[3,7] - 0.007588396314531565 z[3,8] + 0.008103816770017147 z[3,9] + 0.0005962153081782162 z[3,10] - 0.001233614981174469 z[3,11] - 0.009158176369965076 z[3,12] - 0.004883254878222942 z[3,13] - 0.014234708622097969 z[3,14] - [[...2910 terms omitted...]] - 2.768239482975332e-6 z[199,15] - 0.00030502380104735494 z[200,1] + 0.00026169567718170583 z[200,2] + 0.00018731546879280359 z[200,3] + 6.911950094945496e-6 z[200,4] + 7.525086402893066e-5 z[200,5] - 0.00022844709747005254 z[200,6] + 0.00017785702948458493 z[200,7] - 0.00010346947237849236 z[200,8] - 0.0002909202012233436 z[200,9] + 3.7121528293937445e-5 z[200,10] + 0.00017867202404886484 z[200,11] - 6.432084774132818e-6 z[200,12] + 1.3044427760178223e-5 z[201,1] + 0.0003352500207256526 z[201,2] - 5.005656203138642e-5 z[201,3] + 1.2495380360633135e-5 z[201,4] + 0.00016242568381130695 z[201,5] + 0.0006348351598717272 z[201,6] - 0.0002484277938492596 z[201,7] + 3.016578011738602e-5 z[201,8] - 0.0003333050408400595 z[201,9] - 7.157414074754342e-5 z[201,10] + 1.9601724488893524e-5 z[201,11] - 0.00022690091282129288 z[201,12] + 0.00023234802938532084 z[201,13] + 6.107539229560643e-5 z[201,14] - 0.00015883371816016734 z[201,15] + 0.00011949539475608617 z[201,16] + d = 0"
      ]
     },
     "metadata": {},
     "output_type": "display_data"
    }
   ],
   "source": [
    "model = Model(() -> Gurobi.Optimizer());\n",
    "\n",
    "LTE_formulate!(model, LTE, U_bounds, L_bounds, bound_tightening = \"quadratic\")"
   ]
  },
  {
   "cell_type": "code",
   "execution_count": 464,
   "metadata": {},
   "outputs": [
    {
     "data": {
      "text/latex": [
       "$ d $"
      ],
      "text/plain": [
       "d"
      ]
     },
     "metadata": {},
     "output_type": "display_data"
    }
   ],
   "source": [
    "@objective(model, Min, model[:d])"
   ]
  },
  {
   "cell_type": "code",
   "execution_count": 465,
   "metadata": {},
   "outputs": [
    {
     "data": {
      "text/plain": [
       "A JuMP Model\n",
       "Minimization problem with:\n",
       "Variables: 3286\n",
       "Objective function type: VariableRef\n",
       "`AffExpr`-in-`MathOptInterface.EqualTo{Float64}`: 201 constraints\n",
       "`AffExpr`-in-`MathOptInterface.GreaterThan{Float64}`: 10 constraints\n",
       "`AffExpr`-in-`MathOptInterface.LessThan{Float64}`: 5852 constraints\n",
       "`QuadExpr`-in-`MathOptInterface.EqualTo{Float64}`: 1 constraint\n",
       "`VariableRef`-in-`MathOptInterface.ZeroOne`: 3280 constraints\n",
       "Model mode: AUTOMATIC\n",
       "CachingOptimizer state: EMPTY_OPTIMIZER\n",
       "Solver name: Gurobi\n",
       "Names registered in the model: d, x, y, z"
      ]
     },
     "metadata": {},
     "output_type": "display_data"
    }
   ],
   "source": [
    "model"
   ]
  },
  {
   "cell_type": "code",
   "execution_count": 466,
   "metadata": {},
   "outputs": [],
   "source": [
    "optimize!(model)"
   ]
  },
  {
   "cell_type": "code",
   "execution_count": 467,
   "metadata": {},
   "outputs": [
    {
     "data": {
      "text/plain": [
       "-0.4231592458540945"
      ]
     },
     "metadata": {},
     "output_type": "display_data"
    }
   ],
   "source": [
    "objective_value(model)"
   ]
  },
  {
   "cell_type": "code",
   "execution_count": 468,
   "metadata": {},
   "outputs": [
    {
     "data": {
      "text/plain": [
       "-0.4231592f0"
      ]
     },
     "metadata": {},
     "output_type": "display_data"
    }
   ],
   "source": [
    "EvoTrees.predict(evo_model, value.(model[:x])')[1] "
   ]
  }
 ],
 "metadata": {
  "kernelspec": {
   "display_name": "Julia 1.10.0",
   "language": "julia",
   "name": "julia-1.10"
  },
  "language_info": {
   "file_extension": ".jl",
   "mimetype": "application/julia",
   "name": "julia",
   "version": "1.10.0"
  }
 },
 "nbformat": 4,
 "nbformat_minor": 2
}
