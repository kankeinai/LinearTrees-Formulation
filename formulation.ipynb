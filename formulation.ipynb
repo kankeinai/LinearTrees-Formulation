{
 "cells": [
  {
   "cell_type": "code",
   "execution_count": 632,
   "metadata": {},
   "outputs": [],
   "source": [
    "data = rand(1000, 5) .- 0.5;\n",
    "x_train = data[1:750, :];\n",
    "y_train = vec(sum(map.(x->x^3, x_train), dims=2));\n",
    "\n",
    "x_test = data[751:end, :];\n",
    "y_test = vec(sum(map.(x->x^3, x_test), dims=2));"
   ]
  },
  {
   "cell_type": "code",
   "execution_count": 685,
   "metadata": {},
   "outputs": [
    {
     "data": {
      "text/plain": [
       "EvoTrees.Tree{EvoTrees.MSE, 1}\n",
       " - feat: [5, 2, 3, 3, 3, 1, 4, 1, 4, 2, 4, 2, 5, 2, 3, 0, 0, 0, 0, 0, 0, 0, 0, 0, 0, 0, 0, 0, 0, 0, 0]\n",
       " - cond_bin: UInt8[0x10, 0x0d, 0x33, 0x04, 0x0e, 0x35, 0x34, 0x1b, 0x19, 0x26, 0x27, 0x0b, 0x3e, 0x0f, 0x3a, 0x00, 0x00, 0x00, 0x00, 0x00, 0x00, 0x00, 0x00, 0x00, 0x00, 0x00, 0x00, 0x00, 0x00, 0x00, 0x00]\n",
       " - cond_float: Any[-0.2504214846695607, -0.29226347146649284, 0.31860200364916236, -0.44524407733050814, -0.27904247754326855, 0.33281540539685156, 0.29926455245624184, -0.09305782079637451, -0.11393074036259893, 0.10833475297674695, 0.10030039051040862, -0.3314363590602485, 0.46491940736592585, -0.2665984969661571, 0.41573503481621343, 0.0, 0.0, 0.0, 0.0, 0.0, 0.0, 0.0, 0.0, 0.0, 0.0, 0.0, 0.0, 0.0, 0.0, 0.0, 0.0]\n",
       " - gain: [1.3125857750311107, 0.44825225792196455, 0.9623697654853955, 0.11481583554934849, 0.1969904513561656, 0.601191074711292, 0.3239248591184525, 0.01529426635542308, 0.08628197872874199, 0.04020464065320806, 0.1259515356732703, 0.4328288735530262, 0.1604318581761307, 0.14703841281935126, 0.051042157363125895, 0.0, 0.0, 0.0, 0.0, 0.0, 0.0, 0.0, 0.0, 0.0, 0.0, 0.0, 0.0, 0.0, 0.0, 0.0, 0.0]\n",
       " - pred: Float32[0.0 0.0 0.0 0.0 0.0 0.0 0.0 0.0 0.0 0.0 0.0 0.0 0.0 0.0 0.0 -0.030662792 -0.020315818 -0.019357136 -0.009705952 -0.015093801 -0.008083879 -0.0050189067 0.0020153637 -0.009251712 0.00010026542 0.0068870354 0.023888988 0.00036674537 0.009923325 0.015579635 0.024467481]\n",
       " - split: Bool[1, 1, 1, 1, 1, 1, 1, 1, 1, 1, 1, 1, 1, 1, 1, 0, 0, 0, 0, 0, 0, 0, 0, 0, 0, 0, 0, 0, 0, 0, 0]\n"
      ]
     },
     "metadata": {},
     "output_type": "display_data"
    }
   ],
   "source": [
    "config = EvoTreeRegressor(nrounds=3, max_depth=5);\n",
    "evo_model = fit_evotree(config; x_train, y_train, verbosity=0);\n",
    "evo_model_temp = evo_model\n",
    "evo_model = evo_model.trees[2]"
   ]
  },
  {
   "cell_type": "code",
   "execution_count": 686,
   "metadata": {},
   "outputs": [],
   "source": [
    "n_trees = 1\n",
    "n_feats = 5\n",
    "\n",
    "\n",
    "# Get number of leaves and ids of the leaves on each tree\n",
    "leaves = findall(node -> evo_model.split[node] == false && (node == 1 || evo_model.split[floor(Int, node / 2)] == true), 1:length(evo_model.split))\n",
    "n_leaves = length(leaves)\n",
    "\n",
    "splits = Matrix{Any}(undef, n_trees, length(evo_model.split)) # storing the feature number and splitpoint index for each split node\n",
    "splits_ordered = Array{Vector}(undef, n_feats) # splitpoints for each feature\n",
    "\n",
    "n_splits = zeros(Int64, n_feats)\n",
    "[splits_ordered[feat] = [] for feat in 1:n_feats]\n",
    "\n",
    "for node in eachindex(evo_model.split)\n",
    "    if evo_model.split[node] == true\n",
    "        splits[node] = [evo_model.feat[node], evo_model.cond_float[node]] # save feature and split value\n",
    "        push!(splits_ordered[evo_model.feat[node]], evo_model.cond_float[node]) # push split value to splits_ordered\n",
    "    end\n",
    "end\n",
    "\n",
    "[unique!(sort!(splits_ordered[feat])) for feat in 1:n_feats] # sort splits_ordered and remove copies\n",
    "[n_splits[feat] = length(splits_ordered[feat]) for feat in 1:n_feats] # store number of split points\n",
    "\n",
    "for node in eachindex(evo_model.split)\n",
    "    if evo_model.split[node] == true\n",
    "        \n",
    "        feature::Int = splits[ node][1]\n",
    "        value = splits[node][2]\n",
    "\n",
    "        splits[node][2] = searchsortedfirst(splits_ordered[feature], value)\n",
    "\n",
    "    end\n",
    "end\n",
    "\n",
    "a = zeros(n_leaves, n_feats) \n",
    "b = evo_model.pred\n",
    "\n",
    "split_nodes = evo_model.split; "
   ]
  },
  {
   "cell_type": "code",
   "execution_count": 704,
   "metadata": {},
   "outputs": [
    {
     "name": "stdout",
     "output_type": "stream",
     "text": [
      "Set parameter Username\n",
      "Academic license - for non-commercial use only - expires 2025-05-20\n"
     ]
    }
   ],
   "source": [
    "model = Model(() -> Gurobi.Optimizer());\n",
    "set_attribute(model, \"OutputFlag\", 0) # JuMP or solver-specific attributes can be changed\n",
    "\n",
    "L_bounds_inp = -0.5*ones(n_feats);\n",
    "U_bounds_inp = 0.5*ones(n_feats);\n",
    "\n",
    "@variable(model, z[l = 1:n_leaves], Bin); \n",
    "@variable(model, y[i = 1:n_feats, 1:n_splits[i]], Bin);\n",
    "@variable(model, x[1:n_feats]);\n",
    "\n",
    "@constraint(model, [i = 1:n_feats, j = 1:(n_splits[i]-1)], y[i,j] <= y[i, j+1]); \n",
    "@constraint(model, [i = 1:n_feats], x[i] <= U_bounds_inp[i]);\n",
    "@constraint(model, [i = 1:n_feats], x[i] >= L_bounds_inp[i]);"
   ]
  },
  {
   "cell_type": "code",
   "execution_count": 705,
   "metadata": {},
   "outputs": [],
   "source": [
    "v = []\n",
    "\n",
    "for i = 1:length(splits_ordered)\n",
    "    push!(v, vcat(L_bounds_inp[i], splits_ordered[i], U_bounds_inp[i]))\n",
    "end"
   ]
  },
  {
   "cell_type": "code",
   "execution_count": 706,
   "metadata": {},
   "outputs": [],
   "source": [
    "@constraint(model, [i = 1:n_feats], x[i] >=  v[i][1] + sum((v[i][j] - v[i][j-1])*(1 - y[i, j-1]) for j = 2 : n_splits[i]+1))\n",
    "@constraint(model, [i = 1:n_feats], x[i] <=  v[i][n_splits[i]+2] + sum((v[i][j] - v[i][j+1])* y[i, j-1] for j = 2 : n_splits[i]+1))\n",
    "@constraint(model, sum(z[i] for i=1:n_leaves) == 1)\n",
    "@objective(model, Max, sum((sum(a[i, :] .* x) +b[leaves][i]) * z[i] for i=1:n_leaves));"
   ]
  },
  {
   "cell_type": "code",
   "execution_count": 707,
   "metadata": {},
   "outputs": [
    {
     "data": {
      "text/plain": [
       "A JuMP Model\n",
       "Maximization problem with:\n",
       "Variables: 36\n",
       "Objective function type: QuadExpr\n",
       "`AffExpr`-in-`MathOptInterface.EqualTo{Float64}`: 2 constraints\n",
       "`AffExpr`-in-`MathOptInterface.GreaterThan{Float64}`: 10 constraints\n",
       "`AffExpr`-in-`MathOptInterface.LessThan{Float64}`: 20 constraints\n",
       "`VariableRef`-in-`MathOptInterface.ZeroOne`: 31 constraints\n",
       "Model mode: AUTOMATIC\n",
       "CachingOptimizer state: EMPTY_OPTIMIZER\n",
       "Solver name: Gurobi\n",
       "Names registered in the model: x, y, z"
      ]
     },
     "metadata": {},
     "output_type": "display_data"
    }
   ],
   "source": [
    "model"
   ]
  },
  {
   "cell_type": "code",
   "execution_count": 708,
   "metadata": {},
   "outputs": [],
   "source": [
    "optimize!(model)"
   ]
  },
  {
   "cell_type": "code",
   "execution_count": 709,
   "metadata": {},
   "outputs": [
    {
     "data": {
      "text/plain": [
       "0.024467481300234795"
      ]
     },
     "metadata": {},
     "output_type": "display_data"
    }
   ],
   "source": [
    "objective_value(model)"
   ]
  },
  {
   "cell_type": "code",
   "execution_count": 710,
   "metadata": {},
   "outputs": [
    {
     "data": {
      "text/plain": [
       "16-element Vector{Float64}:\n",
       " 0.0\n",
       " 0.0\n",
       " 0.0\n",
       " 0.0\n",
       " 0.0\n",
       " 0.0\n",
       " 0.0\n",
       " 0.0\n",
       " 0.0\n",
       " 0.0\n",
       " 0.0\n",
       " 0.0\n",
       " 0.0\n",
       " 0.0\n",
       " 0.0\n",
       " 1.0"
      ]
     },
     "metadata": {},
     "output_type": "display_data"
    }
   ],
   "source": [
    "value.(model[:z])"
   ]
  },
  {
   "cell_type": "code",
   "execution_count": 711,
   "metadata": {},
   "outputs": [
    {
     "data": {
      "text/plain": [
       "5-element Vector{Float64}:\n",
       " 0.5\n",
       " 0.5\n",
       " 0.5\n",
       " 0.5\n",
       " 0.5"
      ]
     },
     "metadata": {},
     "output_type": "display_data"
    }
   ],
   "source": [
    "value.(model[:x])"
   ]
  },
  {
   "cell_type": "code",
   "execution_count": 712,
   "metadata": {},
   "outputs": [
    {
     "data": {
      "text/plain": [
       "0.024467481300234795"
      ]
     },
     "metadata": {},
     "output_type": "display_data"
    }
   ],
   "source": [
    "sum((a * value.(model[:x]) + b[leaves]) .*  value.(model[:z]))"
   ]
  },
  {
   "cell_type": "code",
   "execution_count": 713,
   "metadata": {},
   "outputs": [
    {
     "data": {
      "text/plain": [
       "16-element Vector{Float32}:\n",
       " -0.030662792\n",
       " -0.020315818\n",
       " -0.019357136\n",
       " -0.009705952\n",
       " -0.015093801\n",
       " -0.008083879\n",
       " -0.0050189067\n",
       "  0.0020153637\n",
       " -0.009251712\n",
       "  0.00010026542\n",
       "  0.0068870354\n",
       "  0.023888988\n",
       "  0.00036674537\n",
       "  0.009923325\n",
       "  0.015579635\n",
       "  0.024467481"
      ]
     },
     "metadata": {},
     "output_type": "display_data"
    }
   ],
   "source": [
    "b[leaves] "
   ]
  },
  {
   "cell_type": "code",
   "execution_count": 714,
   "metadata": {},
   "outputs": [
    {
     "data": {
      "text/plain": [
       "1-element Vector{Float32}:\n",
       " 0.061836593"
      ]
     },
     "metadata": {},
     "output_type": "display_data"
    }
   ],
   "source": [
    "EvoTrees.predict(evo_model_temp, value.(model[:x])')"
   ]
  }
 ],
 "metadata": {
  "kernelspec": {
   "display_name": "Julia 1.10.0",
   "language": "julia",
   "name": "julia-1.10"
  },
  "language_info": {
   "file_extension": ".jl",
   "mimetype": "application/julia",
   "name": "julia",
   "version": "1.10.0"
  }
 },
 "nbformat": 4,
 "nbformat_minor": 2
}
